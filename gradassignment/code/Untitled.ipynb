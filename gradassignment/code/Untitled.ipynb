{
 "cells": [
  {
   "cell_type": "code",
   "execution_count": 2,
   "id": "8984299e",
   "metadata": {},
   "outputs": [],
   "source": [
    "from sklearn.metrics import confusion_matrix\n",
    "from sklearn.metrics import accuracy_score\n",
    "from sklearn.metrics import cohen_kappa_score\n",
    "from sklearn.tree import DecisionTreeClassifier\n",
    "from sklearn.ensemble import VotingClassifier\n",
    "from sklearn.neighbors import KNeighborsClassifier\n",
    "from sklearn.linear_model import LogisticRegression\n",
    "from sklearn.ensemble import RandomForestClassifier\n",
    "import time\n",
    "from sklearn.preprocessing import OneHotEncoder\n",
    "from sklearn.naive_bayes import GaussianNB\n"
   ]
  },
  {
   "cell_type": "markdown",
   "id": "83ecdbe9",
   "metadata": {},
   "source": [
    "Majority Voting Algorithm"
   ]
  },
  {
   "cell_type": "code",
   "execution_count": 4,
   "id": "a168df17",
   "metadata": {},
   "outputs": [],
   "source": [
    "import pandas as pd\n",
    "\n",
    "# Importing dataset\n",
    "dataset = pd.read_csv('data/Book.csv')"
   ]
  },
  {
   "cell_type": "code",
   "execution_count": 5,
   "id": "e7c64824",
   "metadata": {},
   "outputs": [],
   "source": [
    "# Splitting dataset into training and testing data\n",
    "X = dataset.iloc[:, :-1].values\n",
    "y = dataset.iloc[:, -1].values"
   ]
  },
  {
   "cell_type": "code",
   "execution_count": 6,
   "id": "16711a33",
   "metadata": {},
   "outputs": [],
   "source": [
    "# Splitting data into training and testing sets\n",
    "from sklearn.model_selection import train_test_split\n",
    "X_train, X_test, y_train, y_test = train_test_split(X, y, test_size=0.3, random_state=0)"
   ]
  },
  {
   "cell_type": "code",
   "execution_count": 7,
   "id": "3a97a752",
   "metadata": {},
   "outputs": [
    {
     "name": "stdout",
     "output_type": "stream",
     "text": [
      "Correctly Classified Instances: 4\n",
      "Incorrectly Classified Instances: 0\n",
      "Accuracy%: 100.0\n",
      "Kappa Statistics: 1.0\n",
      "a: 2\n",
      "b: 0\n",
      "c:  0\n",
      "d:  2\n",
      "Time taken to build model: 0.02288532257080078\n",
      "Number of leaf node: 5\n"
     ]
    }
   ],
   "source": [
    "# Creating instances of classifiers\n",
    "clf1 = DecisionTreeClassifier(max_depth=4)\n",
    "clf2 = KNeighborsClassifier(n_neighbors=3)\n",
    "clf3=GaussianNB()\n",
    "\n",
    "# Creating a voting classifier\n",
    "vc = VotingClassifier(estimators=[('dt', clf1), ('knn', clf2),['nb',clf3]], voting='hard')\n",
    "\n",
    "# Example input data\n",
    "X = [['fresh', 'sticky', 'frosted'], ['foggy', 'sunny', 'windy'], ['low', 'high', 'mid'],['injured','rested','tired']]\n",
    "\n",
    "# Creating an instance of OneHotEncoder\n",
    "ohe = OneHotEncoder()\n",
    "\n",
    "# Converting categorical data to numerical data\n",
    "X = ohe.fit_transform(X).toarray()\n",
    "\n",
    "# Example output data\n",
    "y = ['no','yes','yes','no']\n",
    "\n",
    "# Creating a dictionary to map output values to numerical values\n",
    "output_mapping = {'no': 0, 'yes': 1}\n",
    "\n",
    "# Converting output data to numerical data\n",
    "y = [output_mapping[i] for i in y]\n",
    "\n",
    "# Fitting the model\n",
    "start_time = time.time()\n",
    "vc.fit(X, y)\n",
    "\n",
    "clf1.fit(X,y)\n",
    "end_time = time.time()\n",
    "\n",
    "# Predicting on test data\n",
    "y_pred = vc.predict(X)\n",
    "\n",
    "y_predDT=clf1.predict(X)\n",
    "\n",
    "# Calculating metrics\n",
    "cm = confusion_matrix(y, y_pred)\n",
    "correctly_classified_instances = cm.trace()\n",
    "incorrectly_classified_instances = cm.sum() - cm.trace()\n",
    "accuracy_percentage = accuracy_score(y, y_pred) * 100\n",
    "kappa_statistics = cohen_kappa_score(y, y_pred)\n",
    "\n",
    "\n",
    "a = cm[0][0]\n",
    "b = cm[0][1]\n",
    "c=  cm[1][0]\n",
    "d=  cm[1][1]\n",
    "time_taken_to_build_model = end_time - start_time\n",
    "number_of_leaf_node = vc.estimators_[0].tree_.node_count\n",
    "\n",
    "#number_of_leaf_nodeKNN = clf2.estimators_[0].tree_.node_count\n",
    "print(\"Correctly Classified Instances:\", correctly_classified_instances)\n",
    "print(\"Incorrectly Classified Instances:\", incorrectly_classified_instances)\n",
    "print(\"Accuracy%:\", accuracy_percentage)\n",
    "print(\"Kappa Statistics:\", kappa_statistics)\n",
    "print(\"a:\", a)\n",
    "print(\"b:\", b)\n",
    "print(\"c: \",c)\n",
    "print(\"d: \",d)\n",
    "print(\"Time taken to build model:\", time_taken_to_build_model)\n",
    "print(\"Number of leaf node:\", number_of_leaf_node)\n",
    "\n",
    "\n",
    "\n",
    "\n",
    "\n",
    "\n"
   ]
  },
  {
   "cell_type": "markdown",
   "id": "815e29cf",
   "metadata": {},
   "source": [
    "Decision Tree\n"
   ]
  },
  {
   "cell_type": "code",
   "execution_count": 8,
   "id": "c520cf98",
   "metadata": {},
   "outputs": [
    {
     "name": "stdout",
     "output_type": "stream",
     "text": [
      "Decision Tree\n",
      "Correctly Classified Instances: 4\n",
      "Incorrectly Classified Instances: 0\n",
      "Accuracy%: 100.0\n",
      "Kappa Statistics: 1.0\n",
      "a: 2\n",
      "b: 0\n",
      "c:  0\n",
      "d:  2\n",
      "Time taken to build model: 0.0021309852600097656\n"
     ]
    }
   ],
   "source": [
    "X = [['fresh', 'sticky', 'frosted'], ['foggy', 'sunny', 'windy'], ['low', 'high', 'mid'],['injured','rested','tired']]\n",
    "\n",
    "# Creating an instance of OneHotEncoder\n",
    "ohe = OneHotEncoder()\n",
    "\n",
    "# Converting categorical data to numerical data\n",
    "X = ohe.fit_transform(X).toarray()\n",
    "\n",
    "# Example output data\n",
    "y = ['no','yes','yes','no']\n",
    "\n",
    "# Creating a dictionary to map output values to numerical values\n",
    "output_mapping = {'no': 0, 'yes': 1}\n",
    "\n",
    "# Converting output data to numerical data\n",
    "y = [output_mapping[i] for i in y]\n",
    "\n",
    "#Decision Tree\n",
    "\n",
    "#Fitting the model\n",
    "start_time = time.time()\n",
    "clf1.fit(X,y)\n",
    "end_time = time.time()\n",
    "#Calculating metrics KNN\n",
    "cmDT = confusion_matrix(y, y_predDT)\n",
    "correctly_classified_instancesDT = cm.trace()\n",
    "incorrectly_classified_instancesDT = cmDT.sum() - cmDT.trace()\n",
    "accuracy_percentageDT = accuracy_score(y, y_predDT) * 100\n",
    "kappa_statisticsDT = cohen_kappa_score(y, y_predDT)\n",
    "aDT = cmDT[0][0]\n",
    "bDT = cmDT[0][1]\n",
    "cDT =  cmDT[1][0]\n",
    "dDT =  cmDT[1][1]\n",
    "time_taken_to_build_modelDT = end_time - start_time\n",
    "print(\"Decision Tree\")\n",
    "print(\"Correctly Classified Instances:\", correctly_classified_instancesDT)\n",
    "print(\"Incorrectly Classified Instances:\", incorrectly_classified_instancesDT)\n",
    "print(\"Accuracy%:\", accuracy_percentageDT)\n",
    "print(\"Kappa Statistics:\", kappa_statisticsDT)\n",
    "print(\"a:\", aDT)\n",
    "print(\"b:\", bDT)\n",
    "print(\"c: \",cDT)\n",
    "print(\"d: \",dDT)\n",
    "print(\"Time taken to build model:\", time_taken_to_build_modelDT)\n"
   ]
  },
  {
   "cell_type": "markdown",
   "id": "f8bfcf53",
   "metadata": {},
   "source": [
    "KNN\n"
   ]
  },
  {
   "cell_type": "code",
   "execution_count": 9,
   "id": "008aaeec",
   "metadata": {},
   "outputs": [
    {
     "name": "stdout",
     "output_type": "stream",
     "text": [
      "KNN\n",
      "Correctly Classified Instances: 4\n",
      "Incorrectly Classified Instances: 1\n",
      "Accuracy%: 75.0\n",
      "Kappa Statistics: 0.5\n",
      "a: 1\n",
      "b: 1\n",
      "c:  0\n",
      "d:  2\n",
      "Time taken to build model: 0.0009784698486328125\n"
     ]
    }
   ],
   "source": [
    "X = [['fresh', 'sticky', 'frosted'], ['foggy', 'sunny', 'windy'], ['low', 'high', 'mid'],['injured','rested','tired']]\n",
    "\n",
    "# Creating an instance of OneHotEncoder\n",
    "ohe = OneHotEncoder()\n",
    "\n",
    "# Converting categorical data to numerical data\n",
    "X = ohe.fit_transform(X).toarray()\n",
    "\n",
    "# Example output data\n",
    "y = ['no','yes','yes','no']\n",
    "\n",
    "# Creating a dictionary to map output values to numerical values\n",
    "output_mapping = {'no': 0, 'yes': 1}\n",
    "\n",
    "# Converting output data to numerical data\n",
    "y = [output_mapping[i] for i in y]\n",
    "start_time = time.time()\n",
    "clf2.fit(X,y)\n",
    "end_time = time.time()\n",
    "y_predKNN=clf2.predict(X)\n",
    "#Calculating metrics KNN\n",
    "cmKNN = confusion_matrix(y, y_predKNN)\n",
    "correctly_classified_instancesKNN = cm.trace()\n",
    "incorrectly_classified_instancesKNN = cmKNN.sum() - cmKNN.trace()\n",
    "accuracy_percentageKNN = accuracy_score(y, y_predKNN) * 100\n",
    "kappa_statisticsKNN = cohen_kappa_score(y, y_predKNN)\n",
    "aKNN = cmKNN[0][0]\n",
    "bKNN = cmKNN[0][1]\n",
    "cKNN =  cmKNN[1][0]\n",
    "dKNN =  cmKNN[1][1]\n",
    "time_taken_to_build_modelKNN = end_time - start_time\n",
    "print(\"KNN\")\n",
    "print(\"Correctly Classified Instances:\", correctly_classified_instancesKNN)\n",
    "print(\"Incorrectly Classified Instances:\", incorrectly_classified_instancesKNN)\n",
    "print(\"Accuracy%:\", accuracy_percentageKNN)\n",
    "print(\"Kappa Statistics:\", kappa_statisticsKNN)\n",
    "print(\"a:\", aKNN)\n",
    "print(\"b:\", bKNN)\n",
    "print(\"c: \",cKNN)\n",
    "print(\"d: \",dKNN)\n",
    "print(\"Time taken to build model:\", time_taken_to_build_modelKNN)"
   ]
  },
  {
   "cell_type": "markdown",
   "id": "3c9c6ec2",
   "metadata": {},
   "source": [
    "Naive Bayes"
   ]
  },
  {
   "cell_type": "code",
   "execution_count": 10,
   "id": "639a42c1",
   "metadata": {},
   "outputs": [
    {
     "name": "stdout",
     "output_type": "stream",
     "text": [
      "Naive Bayes\n",
      "Correctly Classified Instances: 4\n",
      "Incorrectly Classified Instances: 0\n",
      "Accuracy%: 100.0\n",
      "Kappa Statistics: 1.0\n",
      "a: 2\n",
      "b: 0\n",
      "c:  0\n",
      "d:  2\n",
      "Time taken to build model: 0.0019462108612060547\n"
     ]
    }
   ],
   "source": [
    "X = [['fresh', 'sticky', 'frosted'], ['foggy', 'sunny', 'windy'], ['low', 'high', 'mid'],['injured','rested','tired']]\n",
    "\n",
    "# Creating an instance of OneHotEncoder\n",
    "ohe = OneHotEncoder()\n",
    "\n",
    "# Converting categorical data to numerical data\n",
    "X = ohe.fit_transform(X).toarray()\n",
    "\n",
    "# Example output data\n",
    "y = ['no','yes','yes','no']\n",
    "\n",
    "# Creating a dictionary to map output values to numerical values\n",
    "output_mapping = {'no': 0, 'yes': 1}\n",
    "\n",
    "# Converting output data to numerical data\n",
    "y = [output_mapping[i] for i in y]\n",
    "#Naive Bayes\n",
    "#Fitting the model\n",
    "start_time = time.time()\n",
    "clf3.fit(X,y)\n",
    "end_time = time.time()\n",
    "y_predNB=clf3.predict(X)\n",
    "#Calculating metrics KNN\n",
    "cmNB = confusion_matrix(y, y_predNB)\n",
    "correctly_classified_instancesNB = cmNB.trace()\n",
    "incorrectly_classified_instancesNB = cmNB.sum() - cmNB.trace()\n",
    "accuracy_percentageNB = accuracy_score(y, y_predNB) * 100\n",
    "kappa_statisticsNB = cohen_kappa_score(y, y_predNB)\n",
    "aNB = cmNB[0][0]\n",
    "bNB = cmNB[0][1]\n",
    "cNB =  cmNB[1][0]\n",
    "dNB =  cmNB[1][1]\n",
    "time_taken_to_build_modelNB = end_time - start_time\n",
    "print(\"Naive Bayes\")\n",
    "print(\"Correctly Classified Instances:\", correctly_classified_instancesNB)\n",
    "print(\"Incorrectly Classified Instances:\", incorrectly_classified_instancesNB)\n",
    "print(\"Accuracy%:\", accuracy_percentageNB)\n",
    "print(\"Kappa Statistics:\", kappa_statisticsNB)\n",
    "print(\"a:\", aNB)\n",
    "print(\"b:\", bNB)\n",
    "print(\"c: \",cNB)\n",
    "print(\"d: \",dNB)\n",
    "print(\"Time taken to build model:\", time_taken_to_build_modelNB)"
   ]
  },
  {
   "cell_type": "code",
   "execution_count": 11,
   "id": "28e3d86e",
   "metadata": {},
   "outputs": [
    {
     "data": {
      "text/plain": [
       "[Text(0.6, 0.8333333333333334, 'x[1] <= 0.5\\ngini = 0.459\\nsamples = 14\\nvalue = [5, 9]'),\n",
       " Text(0.4, 0.5, 'x[9] <= 0.5\\ngini = 0.298\\nsamples = 11\\nvalue = [2, 9]'),\n",
       " Text(0.2, 0.16666666666666666, 'gini = 0.18\\nsamples = 10\\nvalue = [1, 9]'),\n",
       " Text(0.6, 0.16666666666666666, 'gini = 0.0\\nsamples = 1\\nvalue = [1, 0]'),\n",
       " Text(0.8, 0.5, 'gini = 0.0\\nsamples = 3\\nvalue = [3, 0]')]"
      ]
     },
     "execution_count": 11,
     "metadata": {},
     "output_type": "execute_result"
    },
    {
     "data": {
      "image/png": "[encoded data removed]",
      "text/plain": [
       "<Figure size 640x480 with 1 Axes>"
      ]
     },
     "metadata": {},
     "output_type": "display_data"
    }
   ],
   "source": [
    "from sklearn.tree import DecisionTreeClassifier, plot_tree\n",
    "import pandas as pd\n",
    "\n",
    "# Load your dataset\n",
    "data = pd.read_csv('data/Book.csv')\n",
    "data['snow'] = data['snow'].astype('category')\n",
    "data['weather'] = data['weather'].astype('category')\n",
    "data['season'] = data['season'].astype('category')\n",
    "data['physical condition'] = data['physical condition'].astype('category')\n",
    "data['go skiing'] = data['go skiing'].astype('category')\n",
    "# Split the data into features and target\n",
    "X = data.drop(columns=['go skiing'])\n",
    "y = data['go skiing']\n",
    "\n",
    "ohe = OneHotEncoder()\n",
    "\n",
    "# Converting categorical data to numerical data\n",
    "X = ohe.fit_transform(X).toarray()\n",
    "\n",
    "# Train a decision tree classifier\n",
    "tree_clf = DecisionTreeClassifier(max_depth=2)\n",
    "tree_clf.fit(X, y)\n",
    "\n",
    "# Plot the decision tree\n",
    "plot_tree(tree_clf, filled=True)"
   ]
  },
  {
   "cell_type": "markdown",
   "id": "e3cfa3c5",
   "metadata": {},
   "source": [
    "Test Instances MV"
   ]
  },
  {
   "cell_type": "code",
   "execution_count": 17,
   "id": "94e3ded1",
   "metadata": {},
   "outputs": [],
   "source": [
    "datasetTestMV = pd.read_csv('data/Test MV.csv')"
   ]
  },
  {
   "cell_type": "code",
   "execution_count": 18,
   "id": "79a8c742",
   "metadata": {},
   "outputs": [],
   "source": [
    "datasetTestMV.drop('go skiing MV', axis=1, inplace=True)\n"
   ]
  },
  {
   "cell_type": "code",
   "execution_count": 19,
   "id": "c2db82d2",
   "metadata": {},
   "outputs": [],
   "source": [
    "XMV = datasetTestMV.iloc[:, :-1].values\n",
    "yMV = datasetTestMV.iloc[:, -1].values"
   ]
  },
  {
   "cell_type": "code",
   "execution_count": 25,
   "id": "06f75544",
   "metadata": {},
   "outputs": [
    {
     "name": "stdout",
     "output_type": "stream",
     "text": [
      "[0 1 1 0]\n"
     ]
    }
   ],
   "source": [
    "# Creating instances of classifiers\n",
    "clf1 = DecisionTreeClassifier(max_depth=4)\n",
    "clf2 = KNeighborsClassifier(n_neighbors=3)\n",
    "clf3=GaussianNB()\n",
    "\n",
    "# Creating a voting classifier\n",
    "vc = VotingClassifier(estimators=[('dt', clf1), ('knn', clf2),['nb',clf3]], voting='hard')\n",
    "\n",
    "# Example input data\n",
    "XMV = [['fresh', 'sticky', 'frosted'], ['foggy', 'sunny', 'windy'], ['low', 'high', 'mid'],['injured','rested','tired']]\n",
    "\n",
    "# Creating an instance of OneHotEncoder\n",
    "ohe = OneHotEncoder()\n",
    "\n",
    "# Converting categorical data to numerical data\n",
    "XMV = ohe.fit_transform(XMV).toarray()\n",
    "\n",
    "# Example output data\n",
    "yMV = ['no','yes','yes','no']\n",
    "\n",
    "# Creating a dictionary to map output values to numerical values\n",
    "output_mapping = {'no': 0, 'yes': 1}\n",
    "\n",
    "# Converting output data to numerical data\n",
    "yMV = [output_mapping[i] for i in yMV]\n",
    "\n",
    "# Fitting the model\n",
    "vc.fit(XMV, yMV)\n",
    "\n",
    "\n",
    "\n",
    "\n",
    "# Predicting on test data\n",
    "y_pred = vc.predict(XMV)\n",
    "\n",
    "print(y_pred)\n"
   ]
  },
  {
   "cell_type": "markdown",
   "id": "45ca9ccd",
   "metadata": {},
   "source": [
    "KNN"
   ]
  },
  {
   "cell_type": "code",
   "execution_count": 26,
   "id": "f8d667ad",
   "metadata": {},
   "outputs": [
    {
     "name": "stdout",
     "output_type": "stream",
     "text": [
      "[1 1 1 0]\n"
     ]
    }
   ],
   "source": [
    "# Creating instances of classifiers\n",
    "clf1 = DecisionTreeClassifier(max_depth=4)\n",
    "clf2 = KNeighborsClassifier(n_neighbors=3)\n",
    "clf3=GaussianNB()\n",
    "\n",
    "# Creating a voting classifier\n",
    "\n",
    "\n",
    "# Example input data\n",
    "XMV = [['fresh', 'sticky', 'frosted'], ['foggy', 'sunny', 'windy'], ['low', 'high', 'mid'],['injured','rested','tired']]\n",
    "\n",
    "# Creating an instance of OneHotEncoder\n",
    "ohe = OneHotEncoder()\n",
    "\n",
    "# Converting categorical data to numerical data\n",
    "XMV = ohe.fit_transform(XMV).toarray()\n",
    "\n",
    "# Example output data\n",
    "yMV = ['no','yes','yes','no']\n",
    "\n",
    "# Creating a dictionary to map output values to numerical values\n",
    "output_mapping = {'no': 0, 'yes': 1}\n",
    "\n",
    "# Converting output data to numerical data\n",
    "yMV = [output_mapping[i] for i in yMV]\n",
    "\n",
    "# Fitting the model\n",
    "clf2.fit(XMV, yMV)\n",
    "\n",
    "\n",
    "\n",
    "# Predicting on test data\n",
    "y_pred = clf2.predict(XMV)\n",
    "\n",
    "print(y_pred)\n"
   ]
  },
  {
   "cell_type": "code",
   "execution_count": null,
   "id": "fffede73",
   "metadata": {},
   "outputs": [],
   "source": []
  }
 ],
 "metadata": {
  "kernelspec": {
   "display_name": "Python 3 (ipykernel)",
   "language": "python",
   "name": "python3"
  },
  "language_info": {
   "codemirror_mode": {
    "name": "ipython",
    "version": 3
   },
   "file_extension": ".py",
   "mimetype": "text/x-python",
   "name": "python",
   "nbconvert_exporter": "python",
   "pygments_lexer": "ipython3",
   "version": "3.11.1"
  }
 },
 "nbformat": 4,
 "nbformat_minor": 5
}
