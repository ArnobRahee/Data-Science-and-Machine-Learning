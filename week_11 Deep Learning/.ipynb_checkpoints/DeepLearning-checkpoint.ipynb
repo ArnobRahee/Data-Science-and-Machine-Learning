{
 "cells": [
  {
   "cell_type": "code",
   "execution_count": 1,
   "id": "temporal-given",
   "metadata": {},
   "outputs": [
    {
     "name": "stdout",
     "output_type": "stream",
     "text": [
      "Looking in indexes: https://pypi.org/simple, https://download.pytorch.org/whl/cpu\n",
      "Collecting torch\n",
      "  Downloading https://download.pytorch.org/whl/cpu/torch-2.0.0%2Bcpu-cp311-cp311-win_amd64.whl (174.0 MB)\n",
      "     ---------------------------------------- 0.0/174.0 MB ? eta -:--:--\n",
      "     ---------------------------------------- 0.3/174.0 MB 5.4 MB/s eta 0:00:32\n",
      "     ---------------------------------------- 0.9/174.0 MB 9.7 MB/s eta 0:00:18\n",
      "     --------------------------------------- 1.7/174.0 MB 10.7 MB/s eta 0:00:17\n",
      "      -------------------------------------- 2.4/174.0 MB 13.0 MB/s eta 0:00:14\n",
      "      -------------------------------------- 3.2/174.0 MB 12.9 MB/s eta 0:00:14\n",
      "      -------------------------------------- 3.9/174.0 MB 13.9 MB/s eta 0:00:13\n",
      "     - ------------------------------------- 4.7/174.0 MB 14.2 MB/s eta 0:00:12\n",
      "     - ------------------------------------- 5.5/174.0 MB 14.7 MB/s eta 0:00:12\n",
      "     - ------------------------------------- 6.5/174.0 MB 15.3 MB/s eta 0:00:11\n",
      "     - ------------------------------------- 7.6/174.0 MB 16.2 MB/s eta 0:00:11\n",
      "     - ------------------------------------- 8.8/174.0 MB 17.1 MB/s eta 0:00:10\n",
      "     -- ------------------------------------ 9.9/174.0 MB 17.5 MB/s eta 0:00:10\n",
      "     -- ----------------------------------- 10.9/174.0 MB 19.3 MB/s eta 0:00:09\n",
      "     -- ----------------------------------- 12.5/174.0 MB 21.1 MB/s eta 0:00:08\n",
      "     -- ----------------------------------- 13.6/174.0 MB 22.6 MB/s eta 0:00:08\n",
      "     --- ---------------------------------- 15.2/174.0 MB 26.2 MB/s eta 0:00:07\n",
      "     --- ---------------------------------- 15.6/174.0 MB 24.2 MB/s eta 0:00:07\n",
      "     --- ---------------------------------- 16.5/174.0 MB 25.2 MB/s eta 0:00:07\n",
      "     --- ---------------------------------- 18.1/174.0 MB 25.2 MB/s eta 0:00:07\n",
      "     ---- --------------------------------- 19.9/174.0 MB 27.3 MB/s eta 0:00:06\n",
      "     ---- --------------------------------- 21.4/174.0 MB 28.5 MB/s eta 0:00:06\n",
      "     ----- -------------------------------- 23.4/174.0 MB 29.7 MB/s eta 0:00:06\n",
      "     ----- -------------------------------- 25.0/174.0 MB 29.7 MB/s eta 0:00:06\n",
      "     ----- -------------------------------- 26.2/174.0 MB 34.4 MB/s eta 0:00:05\n",
      "     ----- -------------------------------- 27.2/174.0 MB 32.7 MB/s eta 0:00:05\n",
      "     ------ ------------------------------- 27.9/174.0 MB 31.2 MB/s eta 0:00:05\n",
      "     ------ ------------------------------- 28.3/174.0 MB 31.2 MB/s eta 0:00:05\n",
      "     ------ ------------------------------- 29.1/174.0 MB 25.2 MB/s eta 0:00:06\n",
      "     ------ ------------------------------- 30.3/174.0 MB 25.2 MB/s eta 0:00:06\n",
      "     ------ ------------------------------- 31.9/174.0 MB 25.2 MB/s eta 0:00:06\n",
      "     ------- ------------------------------ 33.2/174.0 MB 24.2 MB/s eta 0:00:06\n",
      "     ------- ------------------------------ 34.0/174.0 MB 23.4 MB/s eta 0:00:06\n",
      "     ------- ------------------------------ 36.1/174.0 MB 23.4 MB/s eta 0:00:06\n",
      "     -------- ----------------------------- 37.2/174.0 MB 24.2 MB/s eta 0:00:06\n",
      "     -------- ----------------------------- 38.4/174.0 MB 25.1 MB/s eta 0:00:06\n",
      "     -------- ----------------------------- 39.9/174.0 MB 29.7 MB/s eta 0:00:05\n",
      "     -------- ----------------------------- 41.1/174.0 MB 29.8 MB/s eta 0:00:05\n",
      "     --------- ---------------------------- 42.4/174.0 MB 28.5 MB/s eta 0:00:05\n",
      "     --------- ---------------------------- 43.6/174.0 MB 28.5 MB/s eta 0:00:05\n",
      "     --------- ---------------------------- 45.0/174.0 MB 28.5 MB/s eta 0:00:05\n",
      "     ---------- --------------------------- 46.1/174.0 MB 28.5 MB/s eta 0:00:05\n",
      "     ---------- --------------------------- 47.4/174.0 MB 27.3 MB/s eta 0:00:05\n",
      "     ---------- --------------------------- 48.3/174.0 MB 26.2 MB/s eta 0:00:05\n",
      "     ---------- --------------------------- 49.4/174.0 MB 25.1 MB/s eta 0:00:05\n",
      "     ----------- -------------------------- 50.4/174.0 MB 26.2 MB/s eta 0:00:05\n",
      "     ----------- -------------------------- 51.4/174.0 MB 24.2 MB/s eta 0:00:06\n",
      "     ----------- -------------------------- 52.4/174.0 MB 25.1 MB/s eta 0:00:05\n",
      "     ----------- -------------------------- 53.5/174.0 MB 24.3 MB/s eta 0:00:05\n",
      "     ----------- -------------------------- 54.6/174.0 MB 23.4 MB/s eta 0:00:06\n",
      "     ------------ ------------------------- 55.7/174.0 MB 23.4 MB/s eta 0:00:06\n",
      "     ------------ ------------------------- 56.7/174.0 MB 23.4 MB/s eta 0:00:06\n",
      "     ------------ ------------------------- 57.8/174.0 MB 23.4 MB/s eta 0:00:05\n",
      "     ------------ ------------------------- 58.8/174.0 MB 22.6 MB/s eta 0:00:06\n",
      "     ------------- ------------------------ 59.8/174.0 MB 22.6 MB/s eta 0:00:06\n",
      "     ------------- ------------------------ 60.9/174.0 MB 22.5 MB/s eta 0:00:06\n",
      "     ------------- ------------------------ 62.0/174.0 MB 23.4 MB/s eta 0:00:05\n",
      "     ------------- ------------------------ 63.0/174.0 MB 23.4 MB/s eta 0:00:05\n",
      "     -------------- ----------------------- 64.2/174.0 MB 23.4 MB/s eta 0:00:05\n",
      "     -------------- ----------------------- 65.0/174.0 MB 23.4 MB/s eta 0:00:05\n",
      "     -------------- ----------------------- 66.0/174.0 MB 22.6 MB/s eta 0:00:05\n",
      "     -------------- ----------------------- 67.0/174.0 MB 23.4 MB/s eta 0:00:05\n",
      "     -------------- ----------------------- 68.1/174.0 MB 21.8 MB/s eta 0:00:05\n",
      "     --------------- ---------------------- 69.1/174.0 MB 21.8 MB/s eta 0:00:05\n",
      "     --------------- ---------------------- 69.9/174.0 MB 21.9 MB/s eta 0:00:05\n",
      "     --------------- ---------------------- 70.7/174.0 MB 21.1 MB/s eta 0:00:05\n",
      "     --------------- ---------------------- 71.6/174.0 MB 20.5 MB/s eta 0:00:06\n",
      "     --------------- ---------------------- 72.7/174.0 MB 20.5 MB/s eta 0:00:05\n",
      "     ---------------- --------------------- 73.7/174.0 MB 21.1 MB/s eta 0:00:05\n",
      "     ---------------- --------------------- 74.9/174.0 MB 21.1 MB/s eta 0:00:05\n",
      "     ---------------- --------------------- 76.0/174.0 MB 21.1 MB/s eta 0:00:05\n",
      "     ---------------- --------------------- 77.0/174.0 MB 21.8 MB/s eta 0:00:05\n",
      "     ---------------- --------------------- 77.8/174.0 MB 21.1 MB/s eta 0:00:05\n",
      "     ----------------- -------------------- 78.8/174.0 MB 21.1 MB/s eta 0:00:05\n",
      "     ----------------- -------------------- 80.0/174.0 MB 21.8 MB/s eta 0:00:05\n",
      "     ----------------- -------------------- 81.1/174.0 MB 23.4 MB/s eta 0:00:04\n",
      "     ----------------- -------------------- 82.2/174.0 MB 23.4 MB/s eta 0:00:04\n",
      "     ------------------ ------------------- 83.4/174.0 MB 23.4 MB/s eta 0:00:04\n",
      "     ------------------ ------------------- 84.7/174.0 MB 23.4 MB/s eta 0:00:04\n",
      "     ------------------ ------------------- 85.9/174.0 MB 24.2 MB/s eta 0:00:04\n",
      "     ------------------- ------------------ 87.1/174.0 MB 24.2 MB/s eta 0:00:04\n",
      "     ------------------- ------------------ 88.2/174.0 MB 25.1 MB/s eta 0:00:04\n",
      "     ------------------- ------------------ 89.3/174.0 MB 25.1 MB/s eta 0:00:04\n",
      "     ------------------- ------------------ 90.5/174.0 MB 25.2 MB/s eta 0:00:04\n",
      "     -------------------- ----------------- 91.6/174.0 MB 25.2 MB/s eta 0:00:04\n",
      "     -------------------- ----------------- 92.6/174.0 MB 25.2 MB/s eta 0:00:04\n",
      "     -------------------- ----------------- 93.3/174.0 MB 23.4 MB/s eta 0:00:04\n",
      "     -------------------- ----------------- 94.5/174.0 MB 23.4 MB/s eta 0:00:04\n",
      "     -------------------- ----------------- 95.7/174.0 MB 23.4 MB/s eta 0:00:04\n",
      "     --------------------- ---------------- 96.9/174.0 MB 23.4 MB/s eta 0:00:04\n",
      "     --------------------- ---------------- 98.2/174.0 MB 23.4 MB/s eta 0:00:04\n",
      "     --------------------- ---------------- 99.4/174.0 MB 24.3 MB/s eta 0:00:04\n",
      "     --------------------- --------------- 100.3/174.0 MB 24.2 MB/s eta 0:00:04\n",
      "     --------------------- --------------- 101.2/174.0 MB 24.2 MB/s eta 0:00:04\n",
      "     --------------------- --------------- 102.2/174.0 MB 22.6 MB/s eta 0:00:04\n",
      "     --------------------- --------------- 103.0/174.0 MB 21.8 MB/s eta 0:00:04\n",
      "     ---------------------- -------------- 103.6/174.0 MB 22.6 MB/s eta 0:00:04\n",
      "     ---------------------- -------------- 104.4/174.0 MB 21.1 MB/s eta 0:00:04\n",
      "     ---------------------- -------------- 104.8/174.0 MB 20.5 MB/s eta 0:00:04\n",
      "     ---------------------- -------------- 105.4/174.0 MB 19.3 MB/s eta 0:00:04\n",
      "     ---------------------- -------------- 106.0/174.0 MB 18.7 MB/s eta 0:00:04\n",
      "     ---------------------- -------------- 106.6/174.0 MB 18.2 MB/s eta 0:00:04\n",
      "     ---------------------- -------------- 107.2/174.0 MB 16.8 MB/s eta 0:00:04\n",
      "     ---------------------- -------------- 107.8/174.0 MB 16.4 MB/s eta 0:00:05\n",
      "     ----------------------- ------------- 108.3/174.0 MB 16.0 MB/s eta 0:00:05\n",
      "     ----------------------- ------------- 108.8/174.0 MB 15.2 MB/s eta 0:00:05\n",
      "     ----------------------- ------------- 109.5/174.0 MB 14.6 MB/s eta 0:00:05\n",
      "     ----------------------- ------------- 110.1/174.0 MB 14.2 MB/s eta 0:00:05\n",
      "     ----------------------- ------------- 110.7/174.0 MB 13.9 MB/s eta 0:00:05\n",
      "     ----------------------- ------------- 111.3/174.0 MB 13.6 MB/s eta 0:00:05\n",
      "     ----------------------- ------------- 112.0/174.0 MB 13.4 MB/s eta 0:00:05\n",
      "     ----------------------- ------------- 112.6/174.0 MB 13.4 MB/s eta 0:00:05\n",
      "     ------------------------ ------------ 113.3/174.0 MB 13.1 MB/s eta 0:00:05\n",
      "     ------------------------ ------------ 114.0/174.0 MB 13.1 MB/s eta 0:00:05\n",
      "     ------------------------ ------------ 114.7/174.0 MB 13.1 MB/s eta 0:00:05\n",
      "     ------------------------ ------------ 115.3/174.0 MB 13.4 MB/s eta 0:00:05\n",
      "     ------------------------ ------------ 116.0/174.0 MB 13.6 MB/s eta 0:00:05\n",
      "     ------------------------ ------------ 116.7/174.0 MB 13.6 MB/s eta 0:00:05\n",
      "     ------------------------ ------------ 117.5/174.0 MB 13.9 MB/s eta 0:00:05\n",
      "     ------------------------- ----------- 118.0/174.0 MB 13.9 MB/s eta 0:00:05\n",
      "     ------------------------- ----------- 118.7/174.0 MB 14.2 MB/s eta 0:00:04\n",
      "     ------------------------- ----------- 119.2/174.0 MB 14.2 MB/s eta 0:00:04\n",
      "     ------------------------- ----------- 119.9/174.0 MB 14.2 MB/s eta 0:00:04\n",
      "     ------------------------- ----------- 120.7/174.0 MB 14.6 MB/s eta 0:00:04\n",
      "     ------------------------- ----------- 121.3/174.0 MB 14.6 MB/s eta 0:00:04\n",
      "     ------------------------- ----------- 122.0/174.0 MB 14.6 MB/s eta 0:00:04\n",
      "     -------------------------- ---------- 122.6/174.0 MB 14.6 MB/s eta 0:00:04\n",
      "     -------------------------- ---------- 123.3/174.0 MB 14.6 MB/s eta 0:00:04\n",
      "     -------------------------- ---------- 124.0/174.0 MB 14.5 MB/s eta 0:00:04\n",
      "     -------------------------- ---------- 124.6/174.0 MB 14.6 MB/s eta 0:00:04\n",
      "     -------------------------- ---------- 125.3/174.0 MB 14.6 MB/s eta 0:00:04\n",
      "     -------------------------- ---------- 125.8/174.0 MB 14.2 MB/s eta 0:00:04\n",
      "     -------------------------- ---------- 126.6/174.0 MB 14.2 MB/s eta 0:00:04\n",
      "     --------------------------- --------- 127.3/174.0 MB 14.2 MB/s eta 0:00:04\n",
      "     --------------------------- --------- 128.0/174.0 MB 14.6 MB/s eta 0:00:04\n",
      "     --------------------------- --------- 128.8/174.0 MB 14.6 MB/s eta 0:00:04\n",
      "     --------------------------- --------- 129.5/174.0 MB 14.9 MB/s eta 0:00:03\n",
      "     --------------------------- --------- 130.3/174.0 MB 14.9 MB/s eta 0:00:03\n",
      "     --------------------------- --------- 131.1/174.0 MB 15.2 MB/s eta 0:00:03\n",
      "     ---------------------------- -------- 131.9/174.0 MB 15.2 MB/s eta 0:00:03\n",
      "     ---------------------------- -------- 132.6/174.0 MB 15.6 MB/s eta 0:00:03\n",
      "     ---------------------------- -------- 133.5/174.0 MB 16.0 MB/s eta 0:00:03\n",
      "     ---------------------------- -------- 134.2/174.0 MB 16.0 MB/s eta 0:00:03\n",
      "     ---------------------------- -------- 135.0/174.0 MB 16.4 MB/s eta 0:00:03\n",
      "     ---------------------------- -------- 135.7/174.0 MB 16.4 MB/s eta 0:00:03\n",
      "     ----------------------------- ------- 136.4/174.0 MB 16.4 MB/s eta 0:00:03\n",
      "     ----------------------------- ------- 137.2/174.0 MB 16.4 MB/s eta 0:00:03\n",
      "     ----------------------------- ------- 137.9/174.0 MB 16.4 MB/s eta 0:00:03\n",
      "     ----------------------------- ------- 138.7/174.0 MB 16.4 MB/s eta 0:00:03\n",
      "     ----------------------------- ------- 139.4/174.0 MB 16.4 MB/s eta 0:00:03\n",
      "     ----------------------------- ------- 140.0/174.0 MB 16.4 MB/s eta 0:00:03\n",
      "     ----------------------------- ------- 140.5/174.0 MB 15.6 MB/s eta 0:00:03\n",
      "     ------------------------------ ------ 141.1/174.0 MB 15.6 MB/s eta 0:00:03\n",
      "     ------------------------------ ------ 141.8/174.0 MB 15.2 MB/s eta 0:00:03\n",
      "     ------------------------------ ------ 142.4/174.0 MB 14.9 MB/s eta 0:00:03\n",
      "     ------------------------------ ------ 143.1/174.0 MB 14.9 MB/s eta 0:00:03\n",
      "     ------------------------------ ------ 143.9/174.0 MB 14.9 MB/s eta 0:00:03\n",
      "     ------------------------------ ------ 144.5/174.0 MB 15.2 MB/s eta 0:00:02\n",
      "     ------------------------------ ------ 145.2/174.0 MB 14.6 MB/s eta 0:00:02\n",
      "     ------------------------------- ----- 145.9/174.0 MB 14.9 MB/s eta 0:00:02\n",
      "     ------------------------------- ----- 146.6/174.0 MB 14.9 MB/s eta 0:00:02\n",
      "     ------------------------------- ----- 147.3/174.0 MB 14.9 MB/s eta 0:00:02\n",
      "     ------------------------------- ----- 148.1/174.0 MB 14.9 MB/s eta 0:00:02\n",
      "     ------------------------------- ----- 148.9/174.0 MB 14.9 MB/s eta 0:00:02\n",
      "     ------------------------------- ----- 149.5/174.0 MB 14.9 MB/s eta 0:00:02\n",
      "     ------------------------------- ----- 150.4/174.0 MB 15.2 MB/s eta 0:00:02\n",
      "     -------------------------------- ---- 151.2/174.0 MB 15.6 MB/s eta 0:00:02\n",
      "     -------------------------------- ---- 151.8/174.0 MB 16.0 MB/s eta 0:00:02\n",
      "     -------------------------------- ---- 152.4/174.0 MB 16.0 MB/s eta 0:00:02\n",
      "     -------------------------------- ---- 153.2/174.0 MB 15.6 MB/s eta 0:00:02\n",
      "     -------------------------------- ---- 154.1/174.0 MB 16.0 MB/s eta 0:00:02\n",
      "     -------------------------------- ---- 154.8/174.0 MB 16.0 MB/s eta 0:00:02\n",
      "     --------------------------------- --- 155.5/174.0 MB 16.0 MB/s eta 0:00:02\n",
      "     --------------------------------- --- 155.9/174.0 MB 16.0 MB/s eta 0:00:02\n",
      "     --------------------------------- --- 156.4/174.0 MB 15.2 MB/s eta 0:00:02\n",
      "     --------------------------------- --- 156.8/174.0 MB 15.2 MB/s eta 0:00:02\n",
      "     --------------------------------- --- 156.8/174.0 MB 14.2 MB/s eta 0:00:02\n",
      "     --------------------------------- --- 157.4/174.0 MB 13.6 MB/s eta 0:00:02\n",
      "     --------------------------------- --- 157.8/174.0 MB 13.4 MB/s eta 0:00:02\n",
      "     --------------------------------- --- 157.8/174.0 MB 13.4 MB/s eta 0:00:02\n",
      "     --------------------------------- --- 158.2/174.0 MB 12.4 MB/s eta 0:00:02\n",
      "     --------------------------------- --- 158.5/174.0 MB 11.9 MB/s eta 0:00:02\n",
      "     --------------------------------- --- 158.5/174.0 MB 11.9 MB/s eta 0:00:02\n",
      "     --------------------------------- --- 158.6/174.0 MB 10.9 MB/s eta 0:00:02\n",
      "     --------------------------------- --- 158.8/174.0 MB 10.4 MB/s eta 0:00:02\n",
      "     --------------------------------- --- 159.1/174.0 MB 10.1 MB/s eta 0:00:02\n",
      "     ---------------------------------- --- 159.3/174.0 MB 9.8 MB/s eta 0:00:02\n",
      "     ---------------------------------- --- 159.6/174.0 MB 9.5 MB/s eta 0:00:02\n",
      "     ---------------------------------- --- 159.8/174.0 MB 9.4 MB/s eta 0:00:02\n",
      "     ---------------------------------- --- 159.9/174.0 MB 9.0 MB/s eta 0:00:02\n",
      "     ---------------------------------- --- 160.2/174.0 MB 8.7 MB/s eta 0:00:02\n",
      "     ----------------------------------- -- 160.5/174.0 MB 8.5 MB/s eta 0:00:02\n",
      "     ----------------------------------- -- 160.7/174.0 MB 8.3 MB/s eta 0:00:02\n",
      "     ----------------------------------- -- 160.9/174.0 MB 8.0 MB/s eta 0:00:02\n",
      "     ----------------------------------- -- 161.2/174.0 MB 7.9 MB/s eta 0:00:02\n",
      "     ----------------------------------- -- 161.2/174.0 MB 7.7 MB/s eta 0:00:02\n",
      "     ----------------------------------- -- 161.4/174.0 MB 7.4 MB/s eta 0:00:02\n",
      "     ----------------------------------- -- 161.7/174.0 MB 7.2 MB/s eta 0:00:02\n",
      "     ----------------------------------- -- 161.9/174.0 MB 7.0 MB/s eta 0:00:02\n",
      "     ----------------------------------- -- 162.1/174.0 MB 7.0 MB/s eta 0:00:02\n",
      "     ----------------------------------- -- 162.5/174.0 MB 6.8 MB/s eta 0:00:02\n",
      "     ----------------------------------- -- 162.7/174.0 MB 6.7 MB/s eta 0:00:02\n",
      "     ----------------------------------- -- 162.9/174.0 MB 6.6 MB/s eta 0:00:02\n",
      "     ----------------------------------- -- 163.2/174.0 MB 6.4 MB/s eta 0:00:02\n",
      "     ----------------------------------- -- 163.4/174.0 MB 6.4 MB/s eta 0:00:02\n",
      "     ----------------------------------- -- 163.7/174.0 MB 6.2 MB/s eta 0:00:02\n",
      "     ----------------------------------- -- 164.0/174.0 MB 6.1 MB/s eta 0:00:02\n",
      "     ----------------------------------- -- 164.2/174.0 MB 6.0 MB/s eta 0:00:02\n",
      "     ----------------------------------- -- 164.5/174.0 MB 5.8 MB/s eta 0:00:02\n",
      "     ----------------------------------- -- 164.8/174.0 MB 5.7 MB/s eta 0:00:02\n",
      "     ------------------------------------ - 165.1/174.0 MB 5.7 MB/s eta 0:00:02\n",
      "     ------------------------------------ - 165.4/174.0 MB 5.6 MB/s eta 0:00:02\n",
      "     ------------------------------------ - 165.6/174.0 MB 5.5 MB/s eta 0:00:02\n",
      "     ------------------------------------ - 165.9/174.0 MB 5.4 MB/s eta 0:00:02\n",
      "     ------------------------------------ - 166.3/174.0 MB 5.4 MB/s eta 0:00:02\n",
      "     ------------------------------------ - 166.9/174.0 MB 5.4 MB/s eta 0:00:02\n",
      "     ------------------------------------ - 167.4/174.0 MB 5.5 MB/s eta 0:00:02\n",
      "     ------------------------------------ - 167.9/174.0 MB 5.7 MB/s eta 0:00:02\n",
      "     ------------------------------------ - 168.5/174.0 MB 5.8 MB/s eta 0:00:01\n",
      "     ------------------------------------ - 169.0/174.0 MB 6.3 MB/s eta 0:00:01\n",
      "     -------------------------------------  169.6/174.0 MB 6.5 MB/s eta 0:00:01\n",
      "     -------------------------------------  170.2/174.0 MB 6.8 MB/s eta 0:00:01\n",
      "     -------------------------------------  170.7/174.0 MB 7.1 MB/s eta 0:00:01\n",
      "     -------------------------------------  171.2/174.0 MB 7.5 MB/s eta 0:00:01\n",
      "     -------------------------------------  171.7/174.0 MB 8.0 MB/s eta 0:00:01\n",
      "     -------------------------------------  172.2/174.0 MB 8.3 MB/s eta 0:00:01\n",
      "     -------------------------------------  172.6/174.0 MB 8.5 MB/s eta 0:00:01\n",
      "     -------------------------------------  173.1/174.0 MB 8.7 MB/s eta 0:00:01\n",
      "     -------------------------------------  173.7/174.0 MB 9.2 MB/s eta 0:00:01\n",
      "     -------------------------------------  174.0/174.0 MB 9.6 MB/s eta 0:00:01\n",
      "     -------------------------------------  174.0/174.0 MB 9.6 MB/s eta 0:00:01\n",
      "     -------------------------------------  174.0/174.0 MB 9.6 MB/s eta 0:00:01\n",
      "     -------------------------------------  174.0/174.0 MB 9.6 MB/s eta 0:00:01\n",
      "     -------------------------------------  174.0/174.0 MB 9.6 MB/s eta 0:00:01\n",
      "     -------------------------------------  174.0/174.0 MB 9.6 MB/s eta 0:00:01\n",
      "     -------------------------------------  174.0/174.0 MB 9.6 MB/s eta 0:00:01\n",
      "     -------------------------------------  174.0/174.0 MB 9.6 MB/s eta 0:00:01\n",
      "     -------------------------------------  174.0/174.0 MB 9.6 MB/s eta 0:00:01\n",
      "     -------------------------------------- 174.0/174.0 MB 5.3 MB/s eta 0:00:00\n",
      "Collecting torchvision\n",
      "  Downloading https://download.pytorch.org/whl/cpu/torchvision-0.15.1%2Bcpu-cp311-cp311-win_amd64.whl (1.2 MB)\n",
      "     ---------------------------------------- 0.0/1.2 MB ? eta -:--:--\n",
      "     ----------- ---------------------------- 0.3/1.2 MB 10.2 MB/s eta 0:00:01\n",
      "     ------------------------------ --------- 0.9/1.2 MB 11.4 MB/s eta 0:00:01\n",
      "     ---------------------------------------  1.2/1.2 MB 10.8 MB/s eta 0:00:01\n",
      "     ---------------------------------------- 1.2/1.2 MB 8.4 MB/s eta 0:00:00\n",
      "Collecting torchaudio\n",
      "  Downloading https://download.pytorch.org/whl/cpu/torchaudio-2.0.1%2Bcpu-cp311-cp311-win_amd64.whl (2.1 MB)\n",
      "     ---------------------------------------- 0.0/2.1 MB ? eta -:--:--\n",
      "     ---- ----------------------------------- 0.2/2.1 MB 7.0 MB/s eta 0:00:01\n",
      "     ------------- -------------------------- 0.7/2.1 MB 9.1 MB/s eta 0:00:01\n",
      "     ------------------------ --------------- 1.3/2.1 MB 10.2 MB/s eta 0:00:01\n",
      "     ---------------------------------- ----- 1.8/2.1 MB 10.5 MB/s eta 0:00:01\n",
      "     ---------------------------------------  2.1/2.1 MB 10.3 MB/s eta 0:00:01\n",
      "     ---------------------------------------- 2.1/2.1 MB 9.6 MB/s eta 0:00:00\n",
      "Collecting filelock\n",
      "  Downloading filelock-3.10.7-py3-none-any.whl (10 kB)\n",
      "Collecting typing-extensions\n",
      "  Downloading typing_extensions-4.5.0-py3-none-any.whl (27 kB)\n",
      "Collecting sympy\n",
      "  Downloading https://download.pytorch.org/whl/sympy-1.11.1-py3-none-any.whl (6.5 MB)\n",
      "     ---------------------------------------- 0.0/6.5 MB ? eta -:--:--\n",
      "     --- ------------------------------------ 0.5/6.5 MB 15.5 MB/s eta 0:00:01\n",
      "     ------ --------------------------------- 1.1/6.5 MB 13.9 MB/s eta 0:00:01\n",
      "     --------- ------------------------------ 1.6/6.5 MB 12.5 MB/s eta 0:00:01\n",
      "     ------------- -------------------------- 2.2/6.5 MB 12.6 MB/s eta 0:00:01\n",
      "     ----------------- ---------------------- 2.8/6.5 MB 12.8 MB/s eta 0:00:01\n",
      "     --------------------- ------------------ 3.4/6.5 MB 12.8 MB/s eta 0:00:01\n",
      "     ------------------------- -------------- 4.1/6.5 MB 13.0 MB/s eta 0:00:01\n",
      "     ---------------------------- ----------- 4.7/6.5 MB 12.9 MB/s eta 0:00:01\n",
      "     -------------------------------- ------- 5.3/6.5 MB 13.1 MB/s eta 0:00:01\n",
      "     ------------------------------------ --- 5.9/6.5 MB 13.1 MB/s eta 0:00:01\n",
      "     ---------------------------------------  6.5/6.5 MB 12.9 MB/s eta 0:00:01\n",
      "     ---------------------------------------- 6.5/6.5 MB 12.2 MB/s eta 0:00:00\n",
      "Collecting networkx\n",
      "  Downloading https://download.pytorch.org/whl/networkx-3.0-py3-none-any.whl (2.0 MB)\n",
      "     ---------------------------------------- 0.0/2.0 MB ? eta -:--:--\n",
      "     ------------- -------------------------- 0.7/2.0 MB 13.9 MB/s eta 0:00:01\n",
      "     ------------------------ --------------- 1.3/2.0 MB 13.3 MB/s eta 0:00:01\n",
      "     ------------------------------------ --- 1.9/2.0 MB 13.2 MB/s eta 0:00:01\n",
      "     ---------------------------------------- 2.0/2.0 MB 11.8 MB/s eta 0:00:00\n",
      "Requirement already satisfied: jinja2 in c:\\users\\user\\appdata\\local\\programs\\python\\python311\\lib\\site-packages (from torch) (3.1.2)\n",
      "Requirement already satisfied: numpy in c:\\users\\user\\appdata\\local\\programs\\python\\python311\\lib\\site-packages (from torchvision) (1.24.1)\n",
      "Requirement already satisfied: requests in c:\\users\\user\\appdata\\local\\programs\\python\\python311\\lib\\site-packages (from torchvision) (2.28.2)\n",
      "Requirement already satisfied: pillow!=8.3.*,>=5.3.0 in c:\\users\\user\\appdata\\local\\programs\\python\\python311\\lib\\site-packages (from torchvision) (9.4.0)\n",
      "Requirement already satisfied: MarkupSafe>=2.0 in c:\\users\\user\\appdata\\local\\programs\\python\\python311\\lib\\site-packages (from jinja2->torch) (2.1.2)\n",
      "Requirement already satisfied: charset-normalizer<4,>=2 in c:\\users\\user\\appdata\\local\\programs\\python\\python311\\lib\\site-packages (from requests->torchvision) (3.0.1)\n",
      "Requirement already satisfied: idna<4,>=2.5 in c:\\users\\user\\appdata\\local\\programs\\python\\python311\\lib\\site-packages (from requests->torchvision) (3.4)\n",
      "Requirement already satisfied: urllib3<1.27,>=1.21.1 in c:\\users\\user\\appdata\\local\\programs\\python\\python311\\lib\\site-packages (from requests->torchvision) (1.26.14)\n",
      "Requirement already satisfied: certifi>=2017.4.17 in c:\\users\\user\\appdata\\local\\programs\\python\\python311\\lib\\site-packages (from requests->torchvision) (2022.12.7)\n",
      "Collecting mpmath>=0.19\n",
      "  Downloading mpmath-1.3.0-py3-none-any.whl (536 kB)\n",
      "     ---------------------------------------- 0.0/536.2 kB ? eta -:--:--\n",
      "     ---------- --------------------------- 153.6/536.2 kB 4.6 MB/s eta 0:00:01\n",
      "     --------------------- ---------------- 307.2/536.2 kB 3.8 MB/s eta 0:00:01\n",
      "     ------------------------------- ------ 450.6/536.2 kB 3.5 MB/s eta 0:00:01\n",
      "     -------------------------------------- 536.2/536.2 kB 3.1 MB/s eta 0:00:00\n",
      "Installing collected packages: mpmath, typing-extensions, sympy, networkx, filelock, torch, torchvision, torchaudio\n",
      "Successfully installed filelock-3.10.7 mpmath-1.3.0 networkx-3.0 sympy-1.11.1 torch-2.0.0+cpu torchaudio-2.0.1+cpu torchvision-0.15.1+cpu typing-extensions-4.5.0\n"
     ]
    },
    {
     "name": "stderr",
     "output_type": "stream",
     "text": [
      "  WARNING: The script isympy.exe is installed in 'C:\\Users\\User\\AppData\\Roaming\\Python\\Python311\\Scripts' which is not on PATH.\n",
      "  Consider adding this directory to PATH or, if you prefer to suppress this warning, use --no-warn-script-location.\n",
      "  WARNING: The scripts convert-caffe2-to-onnx.exe, convert-onnx-to-caffe2.exe and torchrun.exe are installed in 'C:\\Users\\User\\AppData\\Roaming\\Python\\Python311\\Scripts' which is not on PATH.\n",
      "  Consider adding this directory to PATH or, if you prefer to suppress this warning, use --no-warn-script-location.\n"
     ]
    }
   ],
   "source": [
    "!pip3 install torch torchvision torchaudio --extra-index-url https://download.pytorch.org/whl/cpu --user"
   ]
  },
  {
   "cell_type": "code",
   "execution_count": 19,
   "id": "prime-philip",
   "metadata": {},
   "outputs": [],
   "source": [
    "import numpy as np\n",
    "import torch\n",
    "import torchvision\n",
    "import matplotlib.pyplot as plt\n",
    "from time import time\n",
    "from torchvision import datasets, transforms\n",
    "from torch import nn, optim"
   ]
  },
  {
   "cell_type": "code",
   "execution_count": 38,
   "id": "valued-toddler",
   "metadata": {},
   "outputs": [],
   "source": [
    "input_size = 784 # 28x28\n",
    "hidden_size = 500 \n",
    "num_classes = 10\n",
    "num_epochs = 2\n",
    "batch_size = 100\n",
    "learning_rate = 0.001 "
   ]
  },
  {
   "cell_type": "code",
   "execution_count": 41,
   "id": "closed-prayer",
   "metadata": {},
   "outputs": [
    {
     "name": "stdout",
     "output_type": "stream",
     "text": [
      "Dataset MNIST\n",
      "    Number of datapoints: 60000\n",
      "    Root location: C:\\Users\\alazar/mnist_data\n",
      "    Split: Train\n",
      "(<PIL.Image.Image image mode=L size=28x28 at 0x20609D0EF08>, 3)\n"
     ]
    }
   ],
   "source": [
    "# Import MNIST\n",
    "from torchvision.datasets import MNIST\n",
    "\n",
    "train_dataset = MNIST(root='./data', train=True, transform=transforms.ToTensor(), download=False)\n",
    "test_dataset = MNIST(root='./data', train=False, transform=transforms.ToTensor(), download=False)\n",
    "\n",
    "# Print Data\n",
    "print(data_train)\n",
    "print(data_train[12])"
   ]
  },
  {
   "cell_type": "code",
   "execution_count": 43,
   "id": "fifteen-forge",
   "metadata": {},
   "outputs": [],
   "source": [
    "# Data loader\n",
    "train_loader = torch.utils.data.DataLoader(dataset=train_dataset, \n",
    "                                            batch_size=batch_size, \n",
    "                                            shuffle=True)\n",
    "test_loader = torch.utils.data.DataLoader(dataset=test_dataset, \n",
    "                                           batch_size=batch_size, \n",
    "                                           shuffle=False)"
   ]
  },
  {
   "cell_type": "code",
   "execution_count": 32,
   "id": "cosmetic-carbon",
   "metadata": {},
   "outputs": [
    {
     "name": "stdout",
     "output_type": "stream",
     "text": [
      "The label of the image is: 5\n"
     ]
    },
    {
     "data": {
      "image/png": "[encoded data removed]",
      "text/plain": [
       "<Figure size 432x288 with 1 Axes>"
      ]
     },
     "metadata": {
      "needs_background": "light"
     },
     "output_type": "display_data"
    }
   ],
   "source": [
    "import matplotlib.pyplot as plt\n",
    "\n",
    "random_image = data_train[0][0]\n",
    "random_image_label = data_train[0][1]\n",
    "\n",
    "# Print the Image using Matplotlib\n",
    "plt.imshow(random_image)\n",
    "print(\"The label of the image is:\", random_image_label)"
   ]
  },
  {
   "cell_type": "code",
   "execution_count": 36,
   "id": "guided-glory",
   "metadata": {},
   "outputs": [
    {
     "data": {
      "image/png": "[encoded data removed]",
      "text/plain": [
       "<Figure size 432x288 with 1 Axes>"
      ]
     },
     "metadata": {
      "needs_background": "light"
     },
     "output_type": "display_data"
    }
   ],
   "source": [
    "plt.imshow(random_image, cmap='gray_r');"
   ]
  },
  {
   "cell_type": "code",
   "execution_count": 45,
   "id": "reliable-player",
   "metadata": {},
   "outputs": [
    {
     "data": {
      "image/png": "[encoded data removed]",
      "text/plain": [
       "<Figure size 432x288 with 6 Axes>"
      ]
     },
     "metadata": {
      "needs_background": "light"
     },
     "output_type": "display_data"
    }
   ],
   "source": [
    "examples = iter(test_loader)\n",
    "example_data, example_targets = examples.next()\n",
    "for i in range(6):\n",
    "    plt.subplot(2,3,i+1)\n",
    "    plt.imshow(example_data[i][0], cmap='gray')\n",
    "plt.show() "
   ]
  },
  {
   "cell_type": "code",
   "execution_count": 47,
   "id": "fleet-parameter",
   "metadata": {},
   "outputs": [],
   "source": [
    "# Fully connected neural network with one hidden layer\n",
    "class NeuralNet(nn.Module):\n",
    "    def __init__(self, input_size, hidden_size, num_classes):\n",
    "        super(NeuralNet, self).__init__()\n",
    "        self.input_size = input_size\n",
    "        self.l1 = nn.Linear(input_size, hidden_size) \n",
    "        self.relu = nn.ReLU()\n",
    "        self.l2 = nn.Linear(hidden_size, num_classes) \n",
    "    def forward(self, x):\n",
    "        out = self.l1(x)\n",
    "        out = self.relu(out)\n",
    "        out = self.l2(out)\n",
    "        # no activation and no softmax at the end\n",
    "        return out "
   ]
  },
  {
   "cell_type": "code",
   "execution_count": 49,
   "id": "quiet-extra",
   "metadata": {},
   "outputs": [
    {
     "data": {
      "text/plain": [
       "NeuralNet(\n",
       "  (l1): Linear(in_features=784, out_features=500, bias=True)\n",
       "  (relu): ReLU()\n",
       "  (l2): Linear(in_features=500, out_features=10, bias=True)\n",
       ")"
      ]
     },
     "execution_count": 49,
     "metadata": {},
     "output_type": "execute_result"
    }
   ],
   "source": [
    "model = NeuralNet(input_size, hidden_size, num_classes)\n",
    "model.eval()"
   ]
  },
  {
   "cell_type": "code",
   "execution_count": 50,
   "id": "limiting-gabriel",
   "metadata": {},
   "outputs": [],
   "source": [
    "# Loss and optimizer\n",
    "criterion = nn.CrossEntropyLoss()\n",
    "optimizer = torch.optim.Adam(model.parameters(), lr=learning_rate) "
   ]
  },
  {
   "cell_type": "code",
   "execution_count": 53,
   "id": "bizarre-comparison",
   "metadata": {},
   "outputs": [
    {
     "name": "stdout",
     "output_type": "stream",
     "text": [
      "Epoch [2/2], Step[600/600], Loss: 0.0862\n"
     ]
    }
   ],
   "source": [
    "n_total_steps = len(train_loader)\n",
    "for epoch in range(num_epochs):\n",
    "    for i, (images, labels) in enumerate(train_loader):  \n",
    "         # origin shape: [100, 1, 28, 28]\n",
    "         # resized: [100, 784]\n",
    "        images = images.reshape(-1, 28*28)\n",
    "        labels = labels\n",
    "         # Forward pass\n",
    "        outputs = model(images)\n",
    "        loss = criterion(outputs, labels)\n",
    "        # Backward and optimize\n",
    "        optimizer.zero_grad()\n",
    "        loss.backward()\n",
    "        optimizer.step() \n",
    "        \n",
    "if (i+1) % 100 == 0:\n",
    "             print (f'Epoch [{epoch+1}/{num_epochs}], Step[{i+1}/{n_total_steps}], Loss: {loss.item():.4f}')        "
   ]
  },
  {
   "cell_type": "code",
   "execution_count": 59,
   "id": "rubber-integral",
   "metadata": {},
   "outputs": [
    {
     "name": "stdout",
     "output_type": "stream",
     "text": [
      "Accuracy of the network on the 10000 test images: 97.11 %\n"
     ]
    }
   ],
   "source": [
    "with torch.no_grad():\n",
    "    n_correct = 0\n",
    "    n_samples = 0\n",
    "    for images, labels in test_loader:\n",
    "        images = images.reshape(-1, 28*28)\n",
    "        labels = labels\n",
    "        outputs = model(images)\n",
    "        # max returns (value ,index)\n",
    "        _, predicted = torch.max(outputs.data, 1)\n",
    "        n_samples += labels.size(0)\n",
    "        n_correct += (predicted == labels).sum().item()\n",
    "\n",
    "acc = 100.0 * n_correct / n_samples\n",
    "print(f'Accuracy of the network on the 10000 test images: {acc} %') "
   ]
  },
  {
   "cell_type": "code",
   "execution_count": 7,
   "id": "incomplete-fluid",
   "metadata": {},
   "outputs": [],
   "source": [
    "transform = transforms.Compose(\n",
    "    [transforms.ToTensor(),\n",
    "     transforms.Normalize((0.5, 0.5, 0.5), (0.5, 0.5, 0.5))])\n",
    "\n",
    "batch_size = 4\n",
    "\n",
    "trainset = torchvision.datasets.CIFAR10(root='./data', train=True,\n",
    "                                        download=False, transform=transform)\n",
    "trainloader = torch.utils.data.DataLoader(trainset, batch_size=batch_size,\n",
    "                                          shuffle=True, num_workers=2)\n",
    "\n",
    "testset = torchvision.datasets.CIFAR10(root='./data', train=False,\n",
    "                                       download=False, transform=transform)\n",
    "testloader = torch.utils.data.DataLoader(testset, batch_size=batch_size,\n",
    "                                         shuffle=False, num_workers=2)\n",
    "\n",
    "classes = ('plane', 'car', 'bird', 'cat',\n",
    "           'deer', 'dog', 'frog', 'horse', 'ship', 'truck')"
   ]
  },
  {
   "cell_type": "code",
   "execution_count": null,
   "id": "dress-suspect",
   "metadata": {},
   "outputs": [],
   "source": []
  },
  {
   "cell_type": "code",
   "execution_count": 8,
   "id": "unable-ivory",
   "metadata": {},
   "outputs": [
    {
     "data": {
      "image/png": "[encoded data removed]",
      "text/plain": [
       "<Figure size 432x288 with 1 Axes>"
      ]
     },
     "metadata": {
      "needs_background": "light"
     },
     "output_type": "display_data"
    },
    {
     "name": "stdout",
     "output_type": "stream",
     "text": [
      "cat   ship  deer  truck\n"
     ]
    }
   ],
   "source": [
    "import matplotlib.pyplot as plt\n",
    "import numpy as np\n",
    "\n",
    "# functions to show an image\n",
    "\n",
    "\n",
    "def imshow(img):\n",
    "    img = img / 2 + 0.5     # unnormalize\n",
    "    npimg = img.numpy()\n",
    "    plt.imshow(np.transpose(npimg, (1, 2, 0)))\n",
    "    plt.show()\n",
    "\n",
    "\n",
    "# get some random training images\n",
    "dataiter = iter(trainloader)\n",
    "images, labels = dataiter.next()\n",
    "\n",
    "# show images\n",
    "imshow(torchvision.utils.make_grid(images))\n",
    "# print labels\n",
    "print(' '.join(f'{classes[labels[j]]:5s}' for j in range(batch_size)))"
   ]
  },
  {
   "cell_type": "code",
   "execution_count": 9,
   "id": "further-shoulder",
   "metadata": {},
   "outputs": [],
   "source": [
    "import torch.nn as nn\n",
    "import torch.nn.functional as F\n",
    "\n",
    "\n",
    "class Net(nn.Module):\n",
    "    def __init__(self):\n",
    "        super().__init__()\n",
    "        self.conv1 = nn.Conv2d(3, 6, 5)\n",
    "        self.pool = nn.MaxPool2d(2, 2)\n",
    "        self.conv2 = nn.Conv2d(6, 16, 5)\n",
    "        self.fc1 = nn.Linear(16 * 5 * 5, 120)\n",
    "        self.fc2 = nn.Linear(120, 84)\n",
    "        self.fc3 = nn.Linear(84, 10)\n",
    "\n",
    "    def forward(self, x):\n",
    "        x = self.pool(F.relu(self.conv1(x)))\n",
    "        x = self.pool(F.relu(self.conv2(x)))\n",
    "        x = torch.flatten(x, 1) # flatten all dimensions except batch\n",
    "        x = F.relu(self.fc1(x))\n",
    "        x = F.relu(self.fc2(x))\n",
    "        x = self.fc3(x)\n",
    "        return x\n",
    "\n",
    "\n",
    "net = Net()"
   ]
  },
  {
   "cell_type": "code",
   "execution_count": 10,
   "id": "lined-lending",
   "metadata": {},
   "outputs": [],
   "source": [
    "import torch.optim as optim\n",
    "\n",
    "criterion = nn.CrossEntropyLoss()\n",
    "optimizer = optim.SGD(net.parameters(), lr=0.001, momentum=0.9)"
   ]
  },
  {
   "cell_type": "code",
   "execution_count": 11,
   "id": "better-consortium",
   "metadata": {},
   "outputs": [
    {
     "name": "stdout",
     "output_type": "stream",
     "text": [
      "[1,  2000] loss: 2.227\n",
      "[1,  4000] loss: 1.896\n",
      "[1,  6000] loss: 1.711\n",
      "[1,  8000] loss: 1.622\n",
      "[1, 10000] loss: 1.528\n",
      "[1, 12000] loss: 1.492\n",
      "[2,  2000] loss: 1.409\n",
      "[2,  4000] loss: 1.402\n",
      "[2,  6000] loss: 1.358\n",
      "[2,  8000] loss: 1.329\n",
      "[2, 10000] loss: 1.328\n",
      "[2, 12000] loss: 1.287\n",
      "Finished Training\n"
     ]
    }
   ],
   "source": [
    "for epoch in range(2):  # loop over the dataset multiple times\n",
    "\n",
    "    running_loss = 0.0\n",
    "    for i, data in enumerate(trainloader, 0):\n",
    "        # get the inputs; data is a list of [inputs, labels]\n",
    "        inputs, labels = data\n",
    "\n",
    "        # zero the parameter gradients\n",
    "        optimizer.zero_grad()\n",
    "\n",
    "        # forward + backward + optimize\n",
    "        outputs = net(inputs)\n",
    "        loss = criterion(outputs, labels)\n",
    "        loss.backward()\n",
    "        optimizer.step()\n",
    "\n",
    "        # print statistics\n",
    "        running_loss += loss.item()\n",
    "        if i % 2000 == 1999:    # print every 2000 mini-batches\n",
    "            print(f'[{epoch + 1}, {i + 1:5d}] loss: {running_loss / 2000:.3f}')\n",
    "            running_loss = 0.0\n",
    "\n",
    "print('Finished Training')"
   ]
  },
  {
   "cell_type": "code",
   "execution_count": 12,
   "id": "variable-violence",
   "metadata": {},
   "outputs": [],
   "source": [
    "PATH = './cifar_net.pth'\n",
    "torch.save(net.state_dict(), PATH)"
   ]
  },
  {
   "cell_type": "code",
   "execution_count": 13,
   "id": "defensive-summer",
   "metadata": {},
   "outputs": [
    {
     "data": {
      "image/png": "[encoded data removed]",
      "text/plain": [
       "<Figure size 432x288 with 1 Axes>"
      ]
     },
     "metadata": {
      "needs_background": "light"
     },
     "output_type": "display_data"
    },
    {
     "name": "stdout",
     "output_type": "stream",
     "text": [
      "GroundTruth:  cat   ship  ship  plane\n"
     ]
    }
   ],
   "source": [
    "dataiter = iter(testloader)\n",
    "images, labels = dataiter.next()\n",
    "\n",
    "# print images\n",
    "imshow(torchvision.utils.make_grid(images))\n",
    "print('GroundTruth: ', ' '.join(f'{classes[labels[j]]:5s}' for j in range(4)))"
   ]
  },
  {
   "cell_type": "code",
   "execution_count": 14,
   "id": "answering-murray",
   "metadata": {},
   "outputs": [
    {
     "data": {
      "text/plain": [
       "<All keys matched successfully>"
      ]
     },
     "execution_count": 14,
     "metadata": {},
     "output_type": "execute_result"
    }
   ],
   "source": [
    "net = Net()\n",
    "net.load_state_dict(torch.load(PATH))"
   ]
  },
  {
   "cell_type": "code",
   "execution_count": 15,
   "id": "charming-banner",
   "metadata": {},
   "outputs": [],
   "source": [
    "outputs = net(images)"
   ]
  },
  {
   "cell_type": "code",
   "execution_count": 16,
   "id": "dynamic-raleigh",
   "metadata": {},
   "outputs": [
    {
     "name": "stdout",
     "output_type": "stream",
     "text": [
      "Predicted:  bird  ship  car   plane\n"
     ]
    }
   ],
   "source": [
    "_, predicted = torch.max(outputs, 1)\n",
    "\n",
    "print('Predicted: ', ' '.join(f'{classes[predicted[j]]:5s}'\n",
    "                              for j in range(4)))"
   ]
  },
  {
   "cell_type": "code",
   "execution_count": 17,
   "id": "parental-wireless",
   "metadata": {},
   "outputs": [
    {
     "name": "stdout",
     "output_type": "stream",
     "text": [
      "Accuracy of the network on the 10000 test images: 53 %\n"
     ]
    }
   ],
   "source": [
    "correct = 0\n",
    "total = 0\n",
    "# since we're not training, we don't need to calculate the gradients for our outputs\n",
    "with torch.no_grad():\n",
    "    for data in testloader:\n",
    "        images, labels = data\n",
    "        # calculate outputs by running images through the network\n",
    "        outputs = net(images)\n",
    "        # the class with the highest energy is what we choose as prediction\n",
    "        _, predicted = torch.max(outputs.data, 1)\n",
    "        total += labels.size(0)\n",
    "        correct += (predicted == labels).sum().item()\n",
    "\n",
    "print(f'Accuracy of the network on the 10000 test images: {100 * correct // total} %')"
   ]
  },
  {
   "cell_type": "code",
   "execution_count": 18,
   "id": "robust-obligation",
   "metadata": {},
   "outputs": [
    {
     "name": "stdout",
     "output_type": "stream",
     "text": [
      "Accuracy for class: plane is 71.7 %\n",
      "Accuracy for class: car   is 65.2 %\n",
      "Accuracy for class: bird  is 46.3 %\n",
      "Accuracy for class: cat   is 41.2 %\n",
      "Accuracy for class: deer  is 50.6 %\n",
      "Accuracy for class: dog   is 32.7 %\n",
      "Accuracy for class: frog  is 55.3 %\n",
      "Accuracy for class: horse is 65.3 %\n",
      "Accuracy for class: ship  is 61.3 %\n",
      "Accuracy for class: truck is 50.3 %\n"
     ]
    }
   ],
   "source": [
    "# prepare to count predictions for each class\n",
    "correct_pred = {classname: 0 for classname in classes}\n",
    "total_pred = {classname: 0 for classname in classes}\n",
    "\n",
    "# again no gradients needed\n",
    "with torch.no_grad():\n",
    "    for data in testloader:\n",
    "        images, labels = data\n",
    "        outputs = net(images)\n",
    "        _, predictions = torch.max(outputs, 1)\n",
    "        # collect the correct predictions for each class\n",
    "        for label, prediction in zip(labels, predictions):\n",
    "            if label == prediction:\n",
    "                correct_pred[classes[label]] += 1\n",
    "            total_pred[classes[label]] += 1\n",
    "\n",
    "# print accuracy for each class\n",
    "for classname, correct_count in correct_pred.items():\n",
    "    accuracy = 100 * float(correct_count) / total_pred[classname]\n",
    "    print(f'Accuracy for class: {classname:5s} is {accuracy:.1f} %')"
   ]
  }
 ],
 "metadata": {
  "kernelspec": {
   "display_name": "Python 3 (ipykernel)",
   "language": "python",
   "name": "python3"
  },
  "language_info": {
   "codemirror_mode": {
    "name": "ipython",
    "version": 3
   },
   "file_extension": ".py",
   "mimetype": "text/x-python",
   "name": "python",
   "nbconvert_exporter": "python",
   "pygments_lexer": "ipython3",
   "version": "3.11.1"
  },
  "toc": {
   "base_numbering": 1,
   "nav_menu": {},
   "number_sections": true,
   "sideBar": true,
   "skip_h1_title": false,
   "title_cell": "Table of Contents",
   "title_sidebar": "Contents",
   "toc_cell": false,
   "toc_position": {},
   "toc_section_display": true,
   "toc_window_display": false
  },
  "varInspector": {
   "cols": {
    "lenName": 16,
    "lenType": 16,
    "lenVar": 40
   },
   "kernels_config": {
    "python": {
     "delete_cmd_postfix": "",
     "delete_cmd_prefix": "del ",
     "library": "var_list.py",
     "varRefreshCmd": "print(var_dic_list())"
    },
    "r": {
     "delete_cmd_postfix": ") ",
     "delete_cmd_prefix": "rm(",
     "library": "var_list.r",
     "varRefreshCmd": "cat(var_dic_list()) "
    }
   },
   "types_to_exclude": [
    "module",
    "function",
    "builtin_function_or_method",
    "instance",
    "_Feature"
   ],
   "window_display": false
  }
 },
 "nbformat": 4,
 "nbformat_minor": 5
}
